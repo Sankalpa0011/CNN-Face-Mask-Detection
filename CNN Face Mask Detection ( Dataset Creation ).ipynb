{
 "cells": [
  {
   "cell_type": "markdown",
   "id": "816c6fac",
   "metadata": {},
   "source": [
    "## Import Libraries"
   ]
  },
  {
   "cell_type": "code",
   "execution_count": 30,
   "id": "1efdf70a",
   "metadata": {},
   "outputs": [],
   "source": [
    "import numpy as np\n",
    "import matplotlib.pyplot as plt\n",
    "\n",
    "import cv2, os\n",
    "from keras.utils import to_categorical"
   ]
  },
  {
   "cell_type": "markdown",
   "id": "acbf7735",
   "metadata": {},
   "source": [
    "## Import Dataset"
   ]
  },
  {
   "cell_type": "code",
   "execution_count": 31,
   "id": "b6adb1c1",
   "metadata": {},
   "outputs": [
    {
     "name": "stdout",
     "output_type": "stream",
     "text": [
      "['without_mask', 'with_mask']\n",
      "[0 1]\n",
      "{'without_mask': 0, 'with_mask': 1}\n"
     ]
    }
   ],
   "source": [
    "data_path = r\"C:\\\\Users\\\\DELL\\\\OneDrive\\\\Desktop\\\\CNN Face Mask Detection\\\\data\"\n",
    "\n",
    "categories = os.listdir(data_path)\n",
    "labels = np.arange(len(categories))\n",
    "label_dict = dict(zip(categories, labels))\n",
    "\n",
    "print(categories)\n",
    "print(labels)\n",
    "print(label_dict)"
   ]
  },
  {
   "cell_type": "markdown",
   "id": "8a7dfd4a",
   "metadata": {},
   "source": [
    "## Make The Dataset"
   ]
  },
  {
   "cell_type": "code",
   "execution_count": 32,
   "id": "c16f512c",
   "metadata": {},
   "outputs": [],
   "source": [
    "img_size = 50\n",
    "\n",
    "data = []\n",
    "target = []\n",
    "\n",
    "for category in categories:\n",
    "    \n",
    "    folder_path = os.path.join(data_path, category)\n",
    "    img_names = os.listdir(folder_path)\n",
    "    \n",
    "    for img_name in img_names:\n",
    "        img_path = os.path.join(folder_path, img_name)\n",
    "        \n",
    "        try:\n",
    "            img = cv2.imread(img_path)\n",
    "            # cv2.imshow(\"LIVE\", img)\n",
    "            # cv2.waitKey(10)\n",
    "            gray = cv2.cvtColor(img, cv2.COLOR_BGR2GRAY)\n",
    "            resized = cv2.resize(gray, (img_size, img_size))\n",
    "            cv2.imshow(\"LIVE\", resized)\n",
    "            cv2.waitKey(10)\n",
    "            \n",
    "            data.append(resized)\n",
    "            target.append(label_dict[category])\n",
    "            \n",
    "        except Exception as error:\n",
    "            print(img_path, error)"
   ]
  },
  {
   "cell_type": "code",
   "execution_count": 33,
   "id": "1858e809",
   "metadata": {},
   "outputs": [],
   "source": [
    "# convert feature and target to arrays\n",
    "data = np.array(data)\n",
    "target = np.array(target)"
   ]
  },
  {
   "cell_type": "code",
   "execution_count": 34,
   "id": "a8705a96",
   "metadata": {},
   "outputs": [
    {
     "name": "stdout",
     "output_type": "stream",
     "text": [
      "(7553, 50, 50)\n",
      "(7553,)\n"
     ]
    }
   ],
   "source": [
    "print(data.shape)\n",
    "print(target.shape)"
   ]
  },
  {
   "cell_type": "markdown",
   "id": "213f00a0",
   "metadata": {},
   "source": [
    "## Visualization"
   ]
  },
  {
   "cell_type": "code",
   "execution_count": 35,
   "id": "758dd469",
   "metadata": {},
   "outputs": [
    {
     "data": {
      "image/png": "[encoded data removed]",
      "text/plain": [
       "<Figure size 640x480 with 1 Axes>"
      ]
     },
     "metadata": {},
     "output_type": "display_data"
    }
   ],
   "source": [
    "plt.imshow(data[0], cmap=\"gray\")\n",
    "plt.show()"
   ]
  },
  {
   "cell_type": "code",
   "execution_count": 36,
   "id": "02a30522",
   "metadata": {},
   "outputs": [
    {
     "data": {
      "image/png": "[encoded data removed]",
      "text/plain": [
       "<Figure size 640x480 with 1 Axes>"
      ]
     },
     "metadata": {},
     "output_type": "display_data"
    }
   ],
   "source": [
    "plt.imshow(data[4000], cmap=\"gray\")\n",
    "plt.show()"
   ]
  },
  {
   "cell_type": "markdown",
   "id": "f6b84de9",
   "metadata": {},
   "source": [
    "## Data Normalization"
   ]
  },
  {
   "cell_type": "code",
   "execution_count": 37,
   "id": "139f0497",
   "metadata": {},
   "outputs": [
    {
     "name": "stdout",
     "output_type": "stream",
     "text": [
      "(7553, 50, 50)\n"
     ]
    }
   ],
   "source": [
    "data_new = data / 255.0\n",
    "\n",
    "print(data_new.shape)"
   ]
  },
  {
   "cell_type": "code",
   "execution_count": 38,
   "id": "de3d98cc",
   "metadata": {},
   "outputs": [
    {
     "name": "stdout",
     "output_type": "stream",
     "text": [
      "(7553, 50, 50, 1)\n"
     ]
    }
   ],
   "source": [
    "data_new = np.reshape(data_new, (data_new.shape[0], data_new.shape[1], data_new.shape[1], 1))\n",
    "\n",
    "print(data_new.shape)"
   ]
  },
  {
   "cell_type": "markdown",
   "id": "d439bc76",
   "metadata": {},
   "source": [
    "## Catergorical Encoding"
   ]
  },
  {
   "cell_type": "code",
   "execution_count": 39,
   "id": "3b321576",
   "metadata": {},
   "outputs": [],
   "source": [
    "target_new = to_categorical(target)"
   ]
  },
  {
   "cell_type": "code",
   "execution_count": 40,
   "id": "5c48b77e",
   "metadata": {},
   "outputs": [
    {
     "name": "stdout",
     "output_type": "stream",
     "text": [
      "[[1. 0.]\n",
      " [1. 0.]\n",
      " [1. 0.]\n",
      " ...\n",
      " [0. 1.]\n",
      " [0. 1.]\n",
      " [0. 1.]]\n"
     ]
    }
   ],
   "source": [
    "print(target_new)"
   ]
  },
  {
   "cell_type": "markdown",
   "id": "4737c493",
   "metadata": {},
   "source": [
    "## Save Datasets"
   ]
  },
  {
   "cell_type": "code",
   "execution_count": null,
   "id": "963abf4b",
   "metadata": {},
   "outputs": [],
   "source": [
    "np.save(\"data\", data_new)\n",
    "np.save(\"target\", target_new)"
   ]
  }
 ],
 "metadata": {
  "kernelspec": {
   "display_name": "Python 3 (ipykernel)",
   "language": "python",
   "name": "python3"
  },
  "language_info": {
   "codemirror_mode": {
    "name": "ipython",
    "version": 3
   },
   "file_extension": ".py",
   "mimetype": "text/x-python",
   "name": "python",
   "nbconvert_exporter": "python",
   "pygments_lexer": "ipython3",
   "version": "3.11.4"
  }
 },
 "nbformat": 4,
 "nbformat_minor": 5
}
